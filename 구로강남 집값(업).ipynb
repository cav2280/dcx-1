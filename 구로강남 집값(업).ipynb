{
 "cells": [
  {
   "cell_type": "code",
   "execution_count": 1,
   "id": "4a615558",
   "metadata": {},
   "outputs": [],
   "source": [
    "import pandas as pd\n",
    "import matplotlib.pyplot as plt\n"
   ]
  },
  {
   "cell_type": "code",
   "execution_count": 7,
   "id": "173ae77b",
   "metadata": {},
   "outputs": [],
   "source": [
    "import matplotlib.pyplot as plt\n",
    "plt.rcParams['font.family'] = 'Malgun Gothic'  # 한글 폰트명을 설정합니다."
   ]
  },
  {
   "cell_type": "code",
   "execution_count": 46,
   "id": "f6466df3",
   "metadata": {},
   "outputs": [],
   "source": [
    "metro_st1 =[]\n",
    "# metro_st = []"
   ]
  },
  {
   "cell_type": "code",
   "execution_count": 54,
   "id": "b489028e",
   "metadata": {},
   "outputs": [
    {
     "name": "stdout",
     "output_type": "stream",
     "text": [
      "인덱스 0: 296722781\n",
      "인덱스 1: 270119854\n",
      "인덱스 2: 268894158\n",
      "인덱스 3: 352932950\n",
      "인덱스 4: 342170117\n",
      "인덱스 5: 337119842\n",
      "인덱스 6: 358616958\n",
      "인덱스 7: 364619254\n"
     ]
    },
    {
     "name": "stderr",
     "output_type": "stream",
     "text": [
      "C:\\Users\\IN205\\AppData\\Local\\Temp\\ipykernel_10452\\1020503145.py:51: FutureWarning: The default value of numeric_only in DataFrameGroupBy.sum is deprecated. In a future version, numeric_only will default to False. Either specify numeric_only or select only columns which should be valid for the function.\n",
      "  subway_sum = subway_df.groupby(\"역명\").sum()\n",
      "C:\\Users\\IN205\\AppData\\Local\\Temp\\ipykernel_10452\\1020503145.py:59: SettingWithCopyWarning: \n",
      "A value is trying to be set on a copy of a slice from a DataFrame.\n",
      "Try using .loc[row_indexer,col_indexer] = value instead\n",
      "\n",
      "See the caveats in the documentation: https://pandas.pydata.org/pandas-docs/stable/user_guide/indexing.html#returning-a-view-versus-a-copy\n",
      "  filtered_data1[\"지역구\"] = \"강남\"\n"
     ]
    }
   ],
   "source": [
    "def metro(year, locate):\n",
    "    import pandas as pd\n",
    "    import csv\n",
    "\n",
    "    station_list = [\n",
    "        \"압구정\",\n",
    "        \"압구정로데오\",\n",
    "        \"신사\",\n",
    "        \"논현\",\n",
    "        \"신논현\",\n",
    "        \"강남\",\n",
    "        \"양재\",\n",
    "        \"매봉\",\n",
    "        \"한티\",\n",
    "        \"선릉\",\n",
    "        \"학동\",\n",
    "        \"언주\",\n",
    "        \"매봉\",\n",
    "        \"대치\",\n",
    "        \"도곡\",\n",
    "        \"개포동\",\n",
    "        \"대청\",\n",
    "        \"일원\",\n",
    "        \"수서\",\n",
    "        \"봉은사\",\n",
    "        \"청담\",\n",
    "    ]\n",
    "    station_list2 = [\"온수\", \"개봉\", \"구로\", \"신도림\"]\n",
    "    input_file = \"data/CARD_SUBWAY_MONTH_%d.csv\" % year\n",
    "    output_file = \"data/CARD_SUBWAY_MONTH_%d_fixed.csv\" % year\n",
    "\n",
    "    with open(input_file, \"r\", encoding=\"euc-kr\") as f_in, open(\n",
    "        output_file, \"w\", newline=\"\", encoding=\"euc-kr\"\n",
    "    ) as f_out:\n",
    "        reader = csv.reader(f_in)\n",
    "        writer = csv.writer(f_out)\n",
    "\n",
    "        for row in reader:\n",
    "            if len(row) > 7:\n",
    "                row1 = row[:7]\n",
    "                row2 = row[7:]\n",
    "                writer.writerow(row1)\n",
    "                writer.writerow(row2)\n",
    "            else:\n",
    "                writer.writerow(row)\n",
    "\n",
    "    subway = pd.read_csv(output_file, encoding=\"euc-kr\", index_col=False)\n",
    "    subway_df = subway.drop(\"등록일자\", axis=1)\n",
    "    subway_df.set_index(\"역명\", inplace=True)\n",
    "    subway_df = subway_df.drop(\"사용일자\", axis=1)\n",
    "    subway_sum = subway_df.groupby(\"역명\").sum()\n",
    "\n",
    "    filtered_data1 = subway_sum[subway_sum.index.isin(station_list)]\n",
    "    extracted_data1 = filtered_data1[[\"승차총승객수\", \"하차총승객수\"]]\n",
    "\n",
    "    filtered_data2 = subway_sum[subway_sum.index.isin(station_list2)]\n",
    "    extracted_data2 = filtered_data2[[\"승차총승객수\", \"하차총승객수\"]]\n",
    "\n",
    "    filtered_data1[\"지역구\"] = \"강남\"\n",
    "\n",
    "    if locate == '강남구':\n",
    "        extracted_data1 = filtered_data1[[\"지역구\", \"승차총승객수\", \"하차총승객수\"]]\n",
    "        extracted_data1.set_index(\"지역구\", inplace=True)\n",
    "        extracted_data_df1 = extracted_data1.groupby(\"지역구\").sum()\n",
    "        tmp = int(extracted_data_df1.승차총승객수 + extracted_data_df1.하차총승객수.values)\n",
    "        return tmp\n",
    "\n",
    "    if locate == '구로구':\n",
    "        filtered_data2[\"지역구\"] = \"구로\"\n",
    "        extracted_data2 = filtered_data2[[\"지역구\", \"승차총승객수\", \"하차총승객수\"]]\n",
    "        extracted_data2.set_index(\"지역구\", inplace=True)\n",
    "        extracted_data_df2 = extracted_data2.groupby(\"지역구\").sum()\n",
    "        tmp = int(extracted_data_df2.승차총승객수 + extracted_data_df2.하차총승객수.values)\n",
    "        return tmp\n",
    "\n",
    "\n",
    "def show_array_contents(array):\n",
    "    for i, item in enumerate(array):\n",
    "        print(f\"인덱스 {i}: {item}\")\n",
    "\n",
    "\n",
    "def metro_tmp(tmp, array):\n",
    "    array.append(tmp)\n",
    "    show_array_contents(array)\n",
    "\n",
    "\n",
    "result = metro(2015, '강남구')\n",
    "metro_tmp(result, metro_st1)"
   ]
  },
  {
   "cell_type": "code",
   "execution_count": 58,
   "id": "a38aa88b",
   "metadata": {},
   "outputs": [
    {
     "data": {
      "text/plain": [
       "[60743513, 56398784, 78652136, 79255005, 80804960, 92814301, 95689185]"
      ]
     },
     "execution_count": 58,
     "metadata": {},
     "output_type": "execute_result"
    }
   ],
   "source": [
    "metro_st\n"
   ]
  },
  {
   "cell_type": "code",
   "execution_count": 59,
   "id": "cbdc0926",
   "metadata": {},
   "outputs": [
    {
     "data": {
      "text/plain": [
       "[296722781,\n",
       " 270119854,\n",
       " 268894158,\n",
       " 352932950,\n",
       " 342170117,\n",
       " 337119842,\n",
       " 358616958,\n",
       " 364619254]"
      ]
     },
     "execution_count": 59,
     "metadata": {},
     "output_type": "execute_result"
    }
   ],
   "source": [
    "metro_st1"
   ]
  },
  {
   "cell_type": "code",
   "execution_count": 66,
   "id": "916b1dfa",
   "metadata": {},
   "outputs": [
    {
     "data": {
      "image/png": "[encoded data removed]",
      "text/plain": [
       "<Figure size 640x480 with 1 Axes>"
      ]
     },
     "metadata": {},
     "output_type": "display_data"
    }
   ],
   "source": [
    "import matplotlib.pyplot as plt\n",
    "\n",
    "def create_line_chart(x, y, label):\n",
    "    plt.plot(x, y, label=label)\n",
    "    x = 2015\n",
    "\n",
    "\n",
    "# 배열의 인덱스를 x 값으로 사용\n",
    "x = range(2015, 2015 +len(metro_st))\n",
    "\n",
    "# 선형 그래프 생성\n",
    "create_line_chart(x, metro_st, label='구로구')\n",
    "create_line_chart(x, metro_st1[:len(metro_st)], label='강남구')\n",
    "\n",
    "# 그래프 레이블, 제목, 범례 설정 및 출력\n",
    "plt.xlabel(\"년도\")\n",
    "plt.ylabel(\"승하차 수\")\n",
    "plt.title(\"강남과 구로의 승하차 수 비교 그래프\")\n",
    "plt.legend()\n",
    "\n",
    "# 그래프 출력\n",
    "plt.show()"
   ]
  },
  {
   "cell_type": "code",
   "execution_count": null,
   "id": "a1974182",
   "metadata": {},
   "outputs": [],
   "source": []
  }
 ],
 "metadata": {
  "kernelspec": {
   "display_name": "Python 3 (ipykernel)",
   "language": "python",
   "name": "python3"
  },
  "language_info": {
   "codemirror_mode": {
    "name": "ipython",
    "version": 3
   },
   "file_extension": ".py",
   "mimetype": "text/x-python",
   "name": "python",
   "nbconvert_exporter": "python",
   "pygments_lexer": "ipython3",
   "version": "3.10.9"
  }
 },
 "nbformat": 4,
 "nbformat_minor": 5
}
