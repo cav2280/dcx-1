{
 "cells": [
  {
   "cell_type": "code",
   "execution_count": 19,
   "metadata": {},
   "outputs": [],
   "source": [
    "import pandas as pd\n",
    "import re"
   ]
  },
  {
   "cell_type": "code",
   "execution_count": 12,
   "metadata": {},
   "outputs": [
    {
     "data": {
      "text/plain": [
       "'1354949'"
      ]
     },
     "execution_count": 12,
     "metadata": {},
     "output_type": "execute_result"
    }
   ],
   "source": [
    "year = 2021\n",
    "locate = \"강남구\"\n",
    "\n",
    "\n",
    "def population(year, locate):\n",
    "    df = pd.read_csv(r\"./data/주민등록인구_20230710130833.csv\", header=0, index_col=\"동별(2)\")\n",
    "    df.drop(columns=\"동별(1)\", inplace=True)\n",
    "    df.drop(index=\"동별(2)\", inplace=True)\n",
    "    df.drop(index=\"소계\", inplace=True)\n",
    "    return df[str(year)][str(locate)]\n",
    "\n",
    "\n",
    "def parkinglot(year, locate):\n",
    "    df = pd.read_csv(r\"./data/주택가+주차장_20230710095648.csv\", header=0, index_col=\"자치구별(2)\")\n",
    "    df.drop(columns='자치구별(1)',inplace=True)\n",
    "    return df[str(year)+'.5'][locate]\n",
    "\n",
    "def house_price(year,locate):\n",
    "    df=pd.read_csv(r'data/주택가격지수(매매)_20230710095430.csv',header=0)\n",
    "    tmp=df.loc[df['시점'] == year].loc[df['자치구별(2)']==locate,'종합'].values\n",
    "    return float(tmp)\n",
    "def fire_count(year,locate):\n",
    "    df=pd.read_csv(r'data/화재발생+현황_20230710145224.csv',index_col='동별(2)')\n",
    "    df.drop(columns='동별(1)',inplace=True)\n",
    "    tmp=df[str(year)][str(locate)]\n",
    "    return tmp\n",
    "def fire_price(year,locate):\n",
    "    df=pd.read_csv(r'data/화재발생+현황_20230710145224.csv',index_col='동별(2)')\n",
    "    df.drop(columns='동별(1)',inplace=True)\n",
    "    tmp=df[str(year)+'.1'][str(locate)]\n",
    "    return tmp\n",
    "\n",
    "\n",
    "\n",
    "tmp=(fire_price(year,locate))\n",
    "tmp"
   ]
  },
  {
   "cell_type": "code",
   "execution_count": 138,
   "metadata": {},
   "outputs": [
    {
     "data": {
      "text/plain": [
       "3027"
      ]
     },
     "execution_count": 138,
     "metadata": {},
     "output_type": "execute_result"
    }
   ],
   "source": [
    "KindOfbusiness='제조업'\n",
    "KindOfData='사업체수'\n",
    "df=pd.read_csv(r'data/사업체현황(산업대분류별_동별)(2017년+이후)_20230710103735.csv',header=None)\n",
    "\n",
    "# df=df.loc[df[4]=\"소계\"]\n",
    "df.iloc[0][1]='년도'\n",
    "df.iloc[1][1]='합계'\n",
    "df.iloc[2][1]='업종'\n",
    "df.iloc[3][1]='통계종류'\n",
    "\n",
    "df=df.T\n",
    "df.drop(columns=[1,5],inplace=True)\n",
    "\n",
    "row = df.iloc[1]  # Select the row to use as column names\n",
    "df = df[2:]  # Remove the row from the DataFrame\n",
    "df = df.set_axis(row, axis='columns')  # Set the row as column names\n",
    "\n",
    "tmp=int(df.loc[df['년도']==str(year)].loc[df['업종']==KindOfbusiness].loc[df['통계종류']==KindOfData,'강남구'].values)\n",
    "df\n",
    "tmp"
   ]
  }
 ],
 "metadata": {
  "kernelspec": {
   "display_name": "Python 3",
   "language": "python",
   "name": "python3"
  },
  "language_info": {
   "codemirror_mode": {
    "name": "ipython",
    "version": 3
   },
   "file_extension": ".py",
   "mimetype": "text/x-python",
   "name": "python",
   "nbconvert_exporter": "python",
   "pygments_lexer": "ipython3",
   "version": "3.10.6"
  },
  "orig_nbformat": 4
 },
 "nbformat": 4,
 "nbformat_minor": 2
}
