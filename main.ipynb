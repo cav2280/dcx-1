{
 "cells": [
  {
   "cell_type": "code",
   "execution_count": 3,
   "metadata": {},
   "outputs": [],
   "source": [
    "import pandas as pd"
   ]
  },
  {
   "cell_type": "code",
   "execution_count": 35,
   "metadata": {},
   "outputs": [
    {
     "data": {
      "text/html": [
       "<div>\n",
       "<style scoped>\n",
       "    .dataframe tbody tr th:only-of-type {\n",
       "        vertical-align: middle;\n",
       "    }\n",
       "\n",
       "    .dataframe tbody tr th {\n",
       "        vertical-align: top;\n",
       "    }\n",
       "\n",
       "    .dataframe thead th {\n",
       "        text-align: right;\n",
       "    }\n",
       "</style>\n",
       "<table border=\"1\" class=\"dataframe\">\n",
       "  <thead>\n",
       "    <tr style=\"text-align: right;\">\n",
       "      <th></th>\n",
       "      <th>시점</th>\n",
       "      <th>자치구별(1)</th>\n",
       "      <th>자치구별(2)</th>\n",
       "      <th>종합</th>\n",
       "      <th>아파트</th>\n",
       "    </tr>\n",
       "  </thead>\n",
       "  <tbody>\n",
       "    <tr>\n",
       "      <th>542</th>\n",
       "      <td>2021</td>\n",
       "      <td>서울시</td>\n",
       "      <td>강남구</td>\n",
       "      <td>105.1</td>\n",
       "      <td>105.8</td>\n",
       "    </tr>\n",
       "  </tbody>\n",
       "</table>\n",
       "</div>"
      ],
      "text/plain": [
       "       시점 자치구별(1) 자치구별(2)     종합    아파트\n",
       "542  2021     서울시     강남구  105.1  105.8"
      ]
     },
     "execution_count": 35,
     "metadata": {},
     "output_type": "execute_result"
    }
   ],
   "source": [
    "year = 2021\n",
    "locate = \"강남구\"\n",
    "\n",
    "\n",
    "def population(year, locate):\n",
    "    df = pd.read_csv(r\"./data/주민등록인구_20230710130833.csv\", header=0, index_col=\"동별(2)\")\n",
    "    df.drop(columns=\"동별(1)\", inplace=True)\n",
    "    df.drop(index=\"동별(2)\", inplace=True)\n",
    "    df.drop(index=\"소계\", inplace=True)\n",
    "    return df[str(year)][str(locate)]\n",
    "\n",
    "\n",
    "def parkinglot(year, locate):\n",
    "    df = pd.read_csv(r\"./data/주택가+주차장_20230710095648.csv\", header=0, index_col=\"자치구별(2)\")\n",
    "    df.drop(columns='자치구별(1)',inplace=True)\n",
    "    print(df[str(year)+'.5'][locate])\n",
    "    df.head()\n",
    "\n",
    "# def house_price(year,locate):\n",
    "df=pd.read_csv(r'data/주택가격지수(매매)_20230710095430.csv',header=0)\n",
    "df.loc[df['시점'] == year].loc[df['자치구별(2)']=='강남구']\n"
   ]
  },
  {
   "cell_type": "code",
   "execution_count": 9,
   "metadata": {},
   "outputs": [
    {
     "name": "stdout",
     "output_type": "stream",
     "text": [
      "       A\n",
      "0  12345\n"
     ]
    }
   ],
   "source": [
    "import pandas as pd\n",
    "\n",
    "# 예제 데이터프레임 생성\n",
    "data = {'A': ['12345', '12346', '12347', '12348', '12349']}\n",
    "df = pd.DataFrame(data)\n",
    "\n",
    "# 컬럼 A의 마지막 문자가 5가 아닌 행 제거\n",
    "df = df[df['A'].str[-1] == '5']\n",
    "\n",
    "print(df)"
   ]
  }
 ],
 "metadata": {
  "kernelspec": {
   "display_name": "Python 3",
   "language": "python",
   "name": "python3"
  },
  "language_info": {
   "codemirror_mode": {
    "name": "ipython",
    "version": 3
   },
   "file_extension": ".py",
   "mimetype": "text/x-python",
   "name": "python",
   "nbconvert_exporter": "python",
   "pygments_lexer": "ipython3",
   "version": "3.10.6"
  },
  "orig_nbformat": 4
 },
 "nbformat": 4,
 "nbformat_minor": 2
}
