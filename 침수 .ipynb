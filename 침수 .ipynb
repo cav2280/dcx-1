{
 "cells": [
  {
   "cell_type": "code",
   "execution_count": 73,
   "id": "3151f5e7",
   "metadata": {},
   "outputs": [
    {
     "data": {
      "text/html": [
       "<div>\n",
       "<style scoped>\n",
       "    .dataframe tbody tr th:only-of-type {\n",
       "        vertical-align: middle;\n",
       "    }\n",
       "\n",
       "    .dataframe tbody tr th {\n",
       "        vertical-align: top;\n",
       "    }\n",
       "\n",
       "    .dataframe thead th {\n",
       "        text-align: right;\n",
       "    }\n",
       "</style>\n",
       "<table border=\"1\" class=\"dataframe\">\n",
       "  <thead>\n",
       "    <tr style=\"text-align: right;\">\n",
       "      <th></th>\n",
       "      <th>순위</th>\n",
       "      <th>시군구</th>\n",
       "      <th>읍면동</th>\n",
       "      <th>침수주택 건수(건)</th>\n",
       "      <th>Unnamed: 4</th>\n",
       "      <th>Unnamed: 5</th>\n",
       "    </tr>\n",
       "  </thead>\n",
       "  <tbody>\n",
       "    <tr>\n",
       "      <th>0</th>\n",
       "      <td>1</td>\n",
       "      <td>관악구</td>\n",
       "      <td>신림동</td>\n",
       "      <td>7665</td>\n",
       "      <td>NaN</td>\n",
       "      <td>*2006년~2022년 서울 466개 읍면동 별 \\n침수주택신고 건수를 합산해 순위...</td>\n",
       "    </tr>\n",
       "    <tr>\n",
       "      <th>1</th>\n",
       "      <td>2</td>\n",
       "      <td>영등포구</td>\n",
       "      <td>대림동</td>\n",
       "      <td>3447</td>\n",
       "      <td>NaN</td>\n",
       "      <td>NaN</td>\n",
       "    </tr>\n",
       "    <tr>\n",
       "      <th>2</th>\n",
       "      <td>3</td>\n",
       "      <td>동작구</td>\n",
       "      <td>사당동</td>\n",
       "      <td>3227</td>\n",
       "      <td>NaN</td>\n",
       "      <td>NaN</td>\n",
       "    </tr>\n",
       "    <tr>\n",
       "      <th>3</th>\n",
       "      <td>4</td>\n",
       "      <td>양천구</td>\n",
       "      <td>신월동</td>\n",
       "      <td>2400</td>\n",
       "      <td>NaN</td>\n",
       "      <td>NaN</td>\n",
       "    </tr>\n",
       "    <tr>\n",
       "      <th>4</th>\n",
       "      <td>5</td>\n",
       "      <td>강서구</td>\n",
       "      <td>화곡동</td>\n",
       "      <td>2322</td>\n",
       "      <td>NaN</td>\n",
       "      <td>NaN</td>\n",
       "    </tr>\n",
       "  </tbody>\n",
       "</table>\n",
       "</div>"
      ],
      "text/plain": [
       "   순위   시군구  읍면동  침수주택 건수(건)  Unnamed: 4  \\\n",
       "0   1   관악구  신림동        7665         NaN   \n",
       "1   2  영등포구  대림동        3447         NaN   \n",
       "2   3   동작구  사당동        3227         NaN   \n",
       "3   4   양천구  신월동        2400         NaN   \n",
       "4   5   강서구  화곡동        2322         NaN   \n",
       "\n",
       "                                          Unnamed: 5  \n",
       "0  *2006년~2022년 서울 466개 읍면동 별 \\n침수주택신고 건수를 합산해 순위...  \n",
       "1                                                NaN  \n",
       "2                                                NaN  \n",
       "3                                                NaN  \n",
       "4                                                NaN  "
      ]
     },
     "execution_count": 73,
     "metadata": {},
     "output_type": "execute_result"
    }
   ],
   "source": [
    "import pandas as pd\n",
    "import numpy as np\n",
    "\n",
    "data = pd.read_excel('(2006_2022)순위_서울시 466개 법정동 주택침수건수 (1).xlsx')\n",
    "data.head()"
   ]
  },
  {
   "cell_type": "code",
   "execution_count": 74,
   "id": "2bcfa32a",
   "metadata": {},
   "outputs": [
    {
     "name": "stdout",
     "output_type": "stream",
     "text": [
      "<class 'pandas.core.frame.DataFrame'>\n",
      "RangeIndex: 312 entries, 0 to 311\n",
      "Data columns (total 6 columns):\n",
      " #   Column      Non-Null Count  Dtype  \n",
      "---  ------      --------------  -----  \n",
      " 0   순위          312 non-null    int64  \n",
      " 1   시군구         312 non-null    object \n",
      " 2   읍면동         312 non-null    object \n",
      " 3   침수주택 건수(건)  312 non-null    int64  \n",
      " 4   Unnamed: 4  0 non-null      float64\n",
      " 5   Unnamed: 5  1 non-null      object \n",
      "dtypes: float64(1), int64(2), object(3)\n",
      "memory usage: 14.8+ KB\n"
     ]
    }
   ],
   "source": [
    "data.info()"
   ]
  },
  {
   "cell_type": "code",
   "execution_count": 75,
   "id": "b7530dca",
   "metadata": {},
   "outputs": [
    {
     "data": {
      "text/html": [
       "<div>\n",
       "<style scoped>\n",
       "    .dataframe tbody tr th:only-of-type {\n",
       "        vertical-align: middle;\n",
       "    }\n",
       "\n",
       "    .dataframe tbody tr th {\n",
       "        vertical-align: top;\n",
       "    }\n",
       "\n",
       "    .dataframe thead th {\n",
       "        text-align: right;\n",
       "    }\n",
       "</style>\n",
       "<table border=\"1\" class=\"dataframe\">\n",
       "  <thead>\n",
       "    <tr style=\"text-align: right;\">\n",
       "      <th></th>\n",
       "      <th>시군구</th>\n",
       "      <th>읍면동</th>\n",
       "      <th>침수주택 건수(건)</th>\n",
       "    </tr>\n",
       "  </thead>\n",
       "  <tbody>\n",
       "    <tr>\n",
       "      <th>0</th>\n",
       "      <td>관악구</td>\n",
       "      <td>신림동</td>\n",
       "      <td>7665</td>\n",
       "    </tr>\n",
       "    <tr>\n",
       "      <th>1</th>\n",
       "      <td>영등포구</td>\n",
       "      <td>대림동</td>\n",
       "      <td>3447</td>\n",
       "    </tr>\n",
       "    <tr>\n",
       "      <th>2</th>\n",
       "      <td>동작구</td>\n",
       "      <td>사당동</td>\n",
       "      <td>3227</td>\n",
       "    </tr>\n",
       "    <tr>\n",
       "      <th>3</th>\n",
       "      <td>양천구</td>\n",
       "      <td>신월동</td>\n",
       "      <td>2400</td>\n",
       "    </tr>\n",
       "    <tr>\n",
       "      <th>4</th>\n",
       "      <td>강서구</td>\n",
       "      <td>화곡동</td>\n",
       "      <td>2322</td>\n",
       "    </tr>\n",
       "  </tbody>\n",
       "</table>\n",
       "</div>"
      ],
      "text/plain": [
       "    시군구  읍면동  침수주택 건수(건)\n",
       "0   관악구  신림동        7665\n",
       "1  영등포구  대림동        3447\n",
       "2   동작구  사당동        3227\n",
       "3   양천구  신월동        2400\n",
       "4   강서구  화곡동        2322"
      ]
     },
     "execution_count": 75,
     "metadata": {},
     "output_type": "execute_result"
    }
   ],
   "source": [
    "#필요없는 칼럼 지우기\n",
    "data = data.drop(['순위', 'Unnamed: 4', 'Unnamed: 5'], axis=1)\n",
    "data.head()"
   ]
  },
  {
   "cell_type": "code",
   "execution_count": 77,
   "id": "281e5845",
   "metadata": {},
   "outputs": [
    {
     "name": "stdout",
     "output_type": "stream",
     "text": [
      "3310\n"
     ]
    }
   ],
   "source": [
    "def flooding(locate):\n",
    "    data = pd.read_excel('(2006_2022)순위_서울시 466개 법정동 주택침수건수 (1).xlsx')\n",
    "    data = data.drop(['순위', 'Unnamed: 4', 'Unnamed: 5'], axis=1)\n",
    "    locate1 = locate\n",
    "    data=data[data['시군구']==locate1]\n",
    "    sum_data=data['침수주택 건수(건)'].sum()\n",
    "    return sum_data\n",
    "print(flooding('강남구'))"
   ]
  },
  {
   "cell_type": "code",
   "execution_count": null,
   "id": "6ae95798",
   "metadata": {},
   "outputs": [],
   "source": []
  }
 ],
 "metadata": {
  "kernelspec": {
   "display_name": "Python 3 (ipykernel)",
   "language": "python",
   "name": "python3"
  },
  "language_info": {
   "codemirror_mode": {
    "name": "ipython",
    "version": 3
   },
   "file_extension": ".py",
   "mimetype": "text/x-python",
   "name": "python",
   "nbconvert_exporter": "python",
   "pygments_lexer": "ipython3",
   "version": "3.10.9"
  }
 },
 "nbformat": 4,
 "nbformat_minor": 5
}
