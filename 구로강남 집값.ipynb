{
 "cells": [
  {
   "cell_type": "code",
   "execution_count": 150,
   "id": "b489028e",
   "metadata": {},
   "outputs": [
    {
     "name": "stdout",
     "output_type": "stream",
     "text": [
      "data/CARD_SUBWAY_MONTH_2020.csv\n"
     ]
    },
    {
     "name": "stderr",
     "output_type": "stream",
     "text": [
      "/tmp/ipykernel_59634/1059230901.py:69: SettingWithCopyWarning: \n",
      "A value is trying to be set on a copy of a slice from a DataFrame.\n",
      "Try using .loc[row_indexer,col_indexer] = value instead\n",
      "\n",
      "See the caveats in the documentation: https://pandas.pydata.org/pandas-docs/stable/user_guide/indexing.html#returning-a-view-versus-a-copy\n",
      "  filtered_data1[\"지역구\"] = \"강남\"\n",
      "/tmp/ipykernel_59634/1059230901.py:80: SettingWithCopyWarning: \n",
      "A value is trying to be set on a copy of a slice from a DataFrame.\n",
      "Try using .loc[row_indexer,col_indexer] = value instead\n",
      "\n",
      "See the caveats in the documentation: https://pandas.pydata.org/pandas-docs/stable/user_guide/indexing.html#returning-a-view-versus-a-copy\n",
      "  filtered_data2[\"지역구\"] = \"구로\"\n",
      "/tmp/ipykernel_59634/1059230901.py:85: FutureWarning: Calling int on a single element Series is deprecated and will raise a TypeError in the future. Use int(ser.iloc[0]) instead\n",
      "  tmp=(int(extracted_data_df2.승차총승객수 + extracted_data_df2.하차총승객수.values))\n"
     ]
    },
    {
     "data": {
      "text/plain": [
       "56751802"
      ]
     },
     "execution_count": 150,
     "metadata": {},
     "output_type": "execute_result"
    }
   ],
   "source": [
    "def metro(year,locate):\n",
    "    import pandas as pd\n",
    "    import csv\n",
    "\n",
    "    # 추출할 역명 리스트\n",
    "    # 추출할 인덱스 리스트\n",
    "    station_list = [\n",
    "        \"압구정\",\n",
    "        \"압구정로데오\",\n",
    "        \"신사\",\n",
    "        \"논현\",\n",
    "        \"신논현\",\n",
    "        \"강남\",\n",
    "        \"양재\",\n",
    "        \"매봉\",\n",
    "        \"한티\",\n",
    "        \"선릉\",\n",
    "        \"학동\",\n",
    "        \"언주\",\n",
    "        \"매봉\",\n",
    "        \"대치\",\n",
    "        \"도곡\",\n",
    "        \"개포동\",\n",
    "        \"대청\",\n",
    "        \"일원\",\n",
    "        \"수서\",\n",
    "        \"봉은사\",\n",
    "        \"청담\",\n",
    "    ]\n",
    "    station_list2 = [\"온수\", \"개봉\", \"구로\", \"신도림\"]\n",
    "    input_file = \"data/CARD_SUBWAY_MONTH_%d.csv\" % year\n",
    "    output_file = \"data/CARD_SUBWAY_MONTH_%d_fixed.csv\" % year\n",
    "\n",
    "    print(input_file)\n",
    "    with open(input_file, \"r\", encoding=\"euc-kr\") as f_in, open(\n",
    "        output_file, \"w\", newline=\"\", encoding=\"euc-kr\"\n",
    "    ) as f_out:\n",
    "        reader = csv.reader(f_in)\n",
    "        writer = csv.writer(f_out)\n",
    "\n",
    "        for row in reader:\n",
    "            if len(row) > 7:\n",
    "                # Split the row into two rows\n",
    "                row1 = row[:7]\n",
    "                row2 = row[7:]\n",
    "                writer.writerow(row1)\n",
    "                writer.writerow(row2)\n",
    "            else:\n",
    "                writer.writerow(row)\n",
    "        # 데이터 불러오기\n",
    "    subway = pd.read_csv(\n",
    "        output_file, encoding=\"euc-kr\", index_col=False\n",
    "    )\n",
    "    subway_df = subway.drop(\"등록일자\", axis=1)\n",
    "    subway_df.set_index(\"역명\", inplace=True)\n",
    "    subway_df = subway_df.drop(\"사용일자\", axis=1)\n",
    "    subway_sum = subway_df.groupby(\"역명\").sum()\n",
    "\n",
    "    # 역명을 포함한 열 추출\n",
    "    filtered_data1 = subway_sum[subway_sum.index.isin(station_list)]\n",
    "\n",
    "    # 필요한 열만 선택  \n",
    "    extracted_data1 = filtered_data1[[\"승차총승객수\", \"하차총승객수\"]]  \n",
    "    # 역명을 포함한 열 추출\n",
    "    filtered_data2 = subway_sum[subway_sum.index.isin(station_list2)]\n",
    "\n",
    "    # 필요한 열만 선택\n",
    "    extracted_data2 = filtered_data2[[\"승차총승객수\", \"하차총승객수\"]]\n",
    "    filtered_data1[\"지역구\"] = \"강남\"\n",
    "\n",
    "    # 필요한 열만 선택\n",
    "    if locate=='강남구':\n",
    "        extracted_data1 = filtered_data1[[\"지역구\", \"승차총승객수\", \"하차총승객수\"]]\n",
    "        extracted_data1.set_index(\"지역구\",inplace=True)\n",
    "        extracted_data_df1 = extracted_data1.groupby(\"지역구\").sum()\n",
    "        tmp=(int(extracted_data_df1.승차총승객수 + extracted_data_df1.하차총승객수.values))\n",
    "        return tmp\n",
    "\n",
    "    if locate=='구로구':\n",
    "        filtered_data2[\"지역구\"] = \"구로\"\n",
    "        # 필요한 열만 선택\n",
    "        extracted_data2 = filtered_data2[[\"지역구\", \"승차총승객수\", \"하차총승객수\"]]\n",
    "        extracted_data2.set_index(\"지역구\", inplace=True)\n",
    "        extracted_data_df2 = extracted_data2.groupby(\"지역구\").sum()\n",
    "        tmp=(int(extracted_data_df2.승차총승객수 + extracted_data_df2.하차총승객수.values))\n",
    "        return tmp\n",
    "    \n",
    "metro(2020,'구로구')"
   ]
  }
 ],
 "metadata": {
  "kernelspec": {
   "display_name": "Python 3 (ipykernel)",
   "language": "python",
   "name": "python3"
  },
  "language_info": {
   "codemirror_mode": {
    "name": "ipython",
    "version": 3
   },
   "file_extension": ".py",
   "mimetype": "text/x-python",
   "name": "python",
   "nbconvert_exporter": "python",
   "pygments_lexer": "ipython3",
   "version": "3.10.6"
  }
 },
 "nbformat": 4,
 "nbformat_minor": 5
}
